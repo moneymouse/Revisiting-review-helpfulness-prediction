{
 "cells": [
  {
   "cell_type": "code",
   "execution_count": 15,
   "metadata": {},
   "outputs": [],
   "source": [
    "import pandas\n",
    "old_dataset = pandas.read_csv(\"new_dataset_old.csv\",index_col=0)\n",
    "dataset = pandas.read_csv(\"new_dataset.csv\",index_col=0)"
   ]
  },
  {
   "cell_type": "code",
   "execution_count": 48,
   "metadata": {},
   "outputs": [
    {
     "name": "stdout",
     "output_type": "stream",
     "text": [
      "old_dataset len:81085\n",
      "hash temp len:80297\n"
     ]
    }
   ],
   "source": [
    "import hashlib\n",
    "sha256 = hashlib.sha256()\n",
    "temp = {}\n",
    "x = 0\n",
    "for i,data in old_dataset.iterrows(): \n",
    "    temp[data[\"review text\"]] = i\n",
    "    x = max(x,i)\n",
    "print(f\"old_dataset len:{len(old_dataset)}\")\n",
    "print(f\"hash temp len:{len(list(temp))}\")"
   ]
  },
  {
   "cell_type": "code",
   "execution_count": 27,
   "metadata": {},
   "outputs": [
    {
     "data": {
      "text/plain": [
       "'I last wrote about this place NINE years ago? And never updated?<br><br>There&#39;s dozens of beer pairings, dinners, happy hours, lunches that have taken place here. <br><br>The growing footprint, the changing in staff, chef promotions - they have come to a point where they ALWAYS have something delicious on the menu (summer time - southern BLT is delicious!). <br><br>They keep the menu tight, the food on point. <br><br>My one, and ONLY complaint is that their deviled eggs this year are off - they&#39;re not nailing the prosciutto this season. But their brunch, steak, sandwiches, salads, fries green tomatoes? All delicious and amazing.'"
      ]
     },
     "execution_count": 27,
     "metadata": {},
     "output_type": "execute_result"
    }
   ],
   "source": [
    "# 新增img_id字段，此字段与img_dir对应，值为图片目录名\n",
    "dataset[\"img_id\"] = 0\n",
    "dataset.loc[0,\"review text\"]"
   ]
  },
  {
   "cell_type": "code",
   "execution_count": 49,
   "metadata": {},
   "outputs": [],
   "source": [
    "undefine_data_index_list = []\n",
    "for i in range(len(dataset)):\n",
    "    \n",
    "    # 来自老数据集的数据索引，该索引对应图片目录目录名\n",
    "    ind_from_old = temp.get(dataset.loc[i,\"review text\"],-1)\n",
    "    dataset.loc[i,\"img_id\"] = ind_from_old\n",
    "    # index == -1 mean the review in new dataset can't be found in old dataset.\n",
    "    # Keep the not found review's index into a list and save in a new csv\n",
    "    if(ind_from_old == -1): undefine_data_index_list.append(i)\n"
   ]
  },
  {
   "cell_type": "code",
   "execution_count": 50,
   "metadata": {},
   "outputs": [
    {
     "data": {
      "text/plain": [
       "7275"
      ]
     },
     "execution_count": 50,
     "metadata": {},
     "output_type": "execute_result"
    }
   ],
   "source": [
    "len(undefine_data_index_list)\n"
   ]
  },
  {
   "cell_type": "code",
   "execution_count": null,
   "metadata": {},
   "outputs": [],
   "source": [
    "dataset.to_csv(\"dataset_with_img.csv\")\n",
    "dataset.iloc[undefine_data_index_list].to_csv(\"dataset_not_found_img.csv\")"
   ]
  }
 ],
 "metadata": {
  "kernelspec": {
   "display_name": "Python 3.10.4 64-bit",
   "language": "python",
   "name": "python3"
  },
  "language_info": {
   "codemirror_mode": {
    "name": "ipython",
    "version": 3
   },
   "file_extension": ".py",
   "mimetype": "text/x-python",
   "name": "python",
   "nbconvert_exporter": "python",
   "pygments_lexer": "ipython3",
   "version": "3.10.4"
  },
  "orig_nbformat": 4,
  "vscode": {
   "interpreter": {
    "hash": "369f2c481f4da34e4445cda3fffd2e751bd1c4d706f27375911949ba6bb62e1c"
   }
  }
 },
 "nbformat": 4,
 "nbformat_minor": 2
}
